{
  "nbformat": 4,
  "nbformat_minor": 0,
  "metadata": {
    "kernelspec": {
      "name": "python3",
      "display_name": "Python 3"
    },
    "language_info": {
      "codemirror_mode": {
        "name": "ipython",
        "version": 3
      },
      "file_extension": ".py",
      "mimetype": "text/x-python",
      "name": "python",
      "nbconvert_exporter": "python",
      "pygments_lexer": "ipython3",
      "version": "3.7.3"
    },
    "colab": {
      "name": "Capstone 2 Deep Learning",
      "provenance": [],
      "collapsed_sections": [],
      "machine_shape": "hm",
      "include_colab_link": true
    },
    "accelerator": "GPU"
  },
  "cells": [
    {
      "cell_type": "markdown",
      "metadata": {
        "id": "view-in-github",
        "colab_type": "text"
      },
      "source": [
        "<a href=\"https://colab.research.google.com/github/andrewyyip/Capstone_Project_2/blob/master/Capstone_2_Deep_Learning.ipynb\" target=\"_parent\"><img src=\"https://colab.research.google.com/assets/colab-badge.svg\" alt=\"Open In Colab\"/></a>"
      ]
    },
    {
      "cell_type": "code",
      "metadata": {
        "id": "r4mDJQEBsMqc",
        "colab_type": "code",
        "colab": {}
      },
      "source": [
        "from os import listdir\n",
        "from os.path import isfile, join\n",
        "import matplotlib.pyplot as plt\n",
        "import pandas as pd\n",
        "from PIL import Image\n",
        "import numpy as np"
      ],
      "execution_count": 0,
      "outputs": []
    },
    {
      "cell_type": "code",
      "metadata": {
        "id": "C-pRqUgJsakT",
        "colab_type": "code",
        "outputId": "c05fca24-e999-4ab4-e5bb-2fe770512e73",
        "colab": {
          "base_uri": "https://localhost:8080/",
          "height": 122
        }
      },
      "source": [
        "from google.colab import drive\n",
        "drive.mount('/content/gdrive')"
      ],
      "execution_count": 2,
      "outputs": [
        {
          "output_type": "stream",
          "text": [
            "Go to this URL in a browser: https://accounts.google.com/o/oauth2/auth?client_id=947318989803-6bn6qk8qdgf4n4g3pfee6491hc0brc4i.apps.googleusercontent.com&redirect_uri=urn%3aietf%3awg%3aoauth%3a2.0%3aoob&response_type=code&scope=email%20https%3a%2f%2fwww.googleapis.com%2fauth%2fdocs.test%20https%3a%2f%2fwww.googleapis.com%2fauth%2fdrive%20https%3a%2f%2fwww.googleapis.com%2fauth%2fdrive.photos.readonly%20https%3a%2f%2fwww.googleapis.com%2fauth%2fpeopleapi.readonly\n",
            "\n",
            "Enter your authorization code:\n",
            "··········\n",
            "Mounted at /content/gdrive\n"
          ],
          "name": "stdout"
        }
      ]
    },
    {
      "cell_type": "markdown",
      "metadata": {
        "id": "KMSfNKiUHwjs",
        "colab_type": "text"
      },
      "source": [
        "Create Training DataFrame"
      ]
    },
    {
      "cell_type": "code",
      "metadata": {
        "colab_type": "code",
        "id": "A3ivVQOAVEdG",
        "colab": {}
      },
      "source": [
        "df_train = pd.read_csv('/content/gdrive/My Drive/Capstone Project 2/train.csv')\n",
        "df_test = pd.read_csv('/content/gdrive/My Drive/Capstone Project 2/test.csv')"
      ],
      "execution_count": 0,
      "outputs": []
    },
    {
      "cell_type": "code",
      "metadata": {
        "colab_type": "code",
        "id": "YYzKWJFCVD2C",
        "colab": {}
      },
      "source": [
        "df_train.label = df_train.label.astype(str)\n",
        "df_test.label = df_test.label.astype(str)"
      ],
      "execution_count": 0,
      "outputs": []
    },
    {
      "cell_type": "code",
      "metadata": {
        "id": "QWx57ieXfEnQ",
        "colab_type": "code",
        "colab": {}
      },
      "source": [
        "#Shuffle dataframes\n",
        "df_train = df_train.sample(frac=1)\n",
        "df_test = df_test.sample(frac=1)"
      ],
      "execution_count": 0,
      "outputs": []
    },
    {
      "cell_type": "code",
      "metadata": {
        "scrolled": true,
        "id": "nKTQu3pPsMr3",
        "colab_type": "code",
        "colab": {}
      },
      "source": [
        "from keras_preprocessing.image import ImageDataGenerator\n",
        "from keras.layers import Dense, Activation, Flatten, Dropout, BatchNormalization\n",
        "from keras.layers import Conv2D, MaxPooling2D, BatchNormalization, Dropout\n",
        "from keras import regularizers, optimizers\n",
        "from keras import Sequential"
      ],
      "execution_count": 0,
      "outputs": []
    },
    {
      "cell_type": "code",
      "metadata": {
        "id": "AFgDEdmJqLYF",
        "colab_type": "code",
        "colab": {}
      },
      "source": [
        "datagen = ImageDataGenerator(rescale = 1/255, validation_split = 0.3)\n",
        "test_datagen = ImageDataGenerator(rescale = 1/255)"
      ],
      "execution_count": 0,
      "outputs": []
    },
    {
      "cell_type": "code",
      "metadata": {
        "id": "WElKYRPql5dG",
        "colab_type": "code",
        "colab": {}
      },
      "source": [
        "image_size = (100,150)\n",
        "#484, 660"
      ],
      "execution_count": 0,
      "outputs": []
    },
    {
      "cell_type": "code",
      "metadata": {
        "id": "qof0rxC3qLVW",
        "colab_type": "code",
        "outputId": "4a8ae6b5-89d4-47ca-c232-63e54eba209a",
        "colab": {
          "base_uri": "https://localhost:8080/",
          "height": 68
        }
      },
      "source": [
        "train_generator = datagen.flow_from_dataframe(dataframe = df_train, \n",
        "                                              x_col = 'file_path', \n",
        "                                              y_col = 'label', \n",
        "                                              directory = None,\n",
        "                                              subset = 'training',\n",
        "                                              target_size = image_size, \n",
        "                                              batchsize = 32, \n",
        "                                              shuffle = True,\n",
        "                                              class_mode = 'binary')\n",
        "\n",
        "val_generator = datagen.flow_from_dataframe(dataframe = df_train,\n",
        "                                            x_col = 'file_path',\n",
        "                                            y_col = 'label',\n",
        "                                            directory = None,\n",
        "                                            subset = 'validation',\n",
        "                                            target_size = image_size,\n",
        "                                            batchsize = 32,\n",
        "                                            shuffle = True,\n",
        "                                            class_mode = 'binary')\n",
        "\n",
        "test_generator = test_datagen.flow_from_dataframe(dataframe = df_test,\n",
        "                                                  x_col = 'file_path',\n",
        "                                                  y_col = 'label',\n",
        "                                                  directory = None,\n",
        "                                                  target_size = image_size,\n",
        "                                                  batchsize = 32,\n",
        "                                                  shuffle = False,\n",
        "                                                  class_mode = 'binary')\n",
        "                                             "
      ],
      "execution_count": 23,
      "outputs": [
        {
          "output_type": "stream",
          "text": [
            "Found 3652 validated image filenames belonging to 2 classes.\n",
            "Found 1564 validated image filenames belonging to 2 classes.\n",
            "Found 624 validated image filenames belonging to 2 classes.\n"
          ],
          "name": "stdout"
        }
      ]
    },
    {
      "cell_type": "code",
      "metadata": {
        "id": "7qFVE5E3qLSL",
        "colab_type": "code",
        "colab": {
          "base_uri": "https://localhost:8080/",
          "height": 445
        },
        "outputId": "fcbf556f-9e3d-411b-bda0-118089ab43cf"
      },
      "source": [
        "model = Sequential()\n",
        "\n",
        "model.add(Conv2D(32, (3,3), strides = (1,1), activation = 'relu', input_shape = (image_size[0], image_size[1],3)))\n",
        "\n",
        "model.add(MaxPooling2D((2,2)))\n",
        "\n",
        "model.add(Conv2D(32, (3,3), strides = (1,1), activation = 'relu', input_shape = (image_size[0], image_size[1],3)))\n",
        "\n",
        "model.add(MaxPooling2D((2,2)))\n",
        "\n",
        "model.add(BatchNormalization())\n",
        "\n",
        "model.add(Flatten())\n",
        "\n",
        "model.add(Dense(128, activation = 'relu'))\n",
        "\n",
        "model.add(Dense(1, activation = 'sigmoid'))\n"
      ],
      "execution_count": 24,
      "outputs": [
        {
          "output_type": "stream",
          "text": [
            "WARNING:tensorflow:From /usr/local/lib/python3.6/dist-packages/keras/backend/tensorflow_backend.py:66: The name tf.get_default_graph is deprecated. Please use tf.compat.v1.get_default_graph instead.\n",
            "\n",
            "WARNING:tensorflow:From /usr/local/lib/python3.6/dist-packages/keras/backend/tensorflow_backend.py:541: The name tf.placeholder is deprecated. Please use tf.compat.v1.placeholder instead.\n",
            "\n",
            "WARNING:tensorflow:From /usr/local/lib/python3.6/dist-packages/keras/backend/tensorflow_backend.py:4432: The name tf.random_uniform is deprecated. Please use tf.random.uniform instead.\n",
            "\n",
            "WARNING:tensorflow:From /usr/local/lib/python3.6/dist-packages/keras/backend/tensorflow_backend.py:4267: The name tf.nn.max_pool is deprecated. Please use tf.nn.max_pool2d instead.\n",
            "\n",
            "WARNING:tensorflow:From /usr/local/lib/python3.6/dist-packages/keras/backend/tensorflow_backend.py:190: The name tf.get_default_session is deprecated. Please use tf.compat.v1.get_default_session instead.\n",
            "\n",
            "WARNING:tensorflow:From /usr/local/lib/python3.6/dist-packages/keras/backend/tensorflow_backend.py:197: The name tf.ConfigProto is deprecated. Please use tf.compat.v1.ConfigProto instead.\n",
            "\n",
            "WARNING:tensorflow:From /usr/local/lib/python3.6/dist-packages/keras/backend/tensorflow_backend.py:203: The name tf.Session is deprecated. Please use tf.compat.v1.Session instead.\n",
            "\n",
            "WARNING:tensorflow:From /usr/local/lib/python3.6/dist-packages/keras/backend/tensorflow_backend.py:207: The name tf.global_variables is deprecated. Please use tf.compat.v1.global_variables instead.\n",
            "\n",
            "WARNING:tensorflow:From /usr/local/lib/python3.6/dist-packages/keras/backend/tensorflow_backend.py:216: The name tf.is_variable_initialized is deprecated. Please use tf.compat.v1.is_variable_initialized instead.\n",
            "\n",
            "WARNING:tensorflow:From /usr/local/lib/python3.6/dist-packages/keras/backend/tensorflow_backend.py:223: The name tf.variables_initializer is deprecated. Please use tf.compat.v1.variables_initializer instead.\n",
            "\n",
            "WARNING:tensorflow:From /usr/local/lib/python3.6/dist-packages/keras/backend/tensorflow_backend.py:2041: The name tf.nn.fused_batch_norm is deprecated. Please use tf.compat.v1.nn.fused_batch_norm instead.\n",
            "\n",
            "WARNING:tensorflow:From /usr/local/lib/python3.6/dist-packages/keras/backend/tensorflow_backend.py:148: The name tf.placeholder_with_default is deprecated. Please use tf.compat.v1.placeholder_with_default instead.\n",
            "\n"
          ],
          "name": "stdout"
        }
      ]
    },
    {
      "cell_type": "code",
      "metadata": {
        "id": "T2X8vCP3pwls",
        "colab_type": "code",
        "colab": {}
      },
      "source": [
        "from keras import backend as K\n",
        "\n",
        "def recall_m(y_true, y_pred):\n",
        "        true_positives = K.sum(K.round(K.clip(y_true * y_pred, 0, 1)))\n",
        "        possible_positives = K.sum(K.round(K.clip(y_true, 0, 1)))\n",
        "        recall = true_positives / (possible_positives + K.epsilon())\n",
        "        return recall\n",
        "\n",
        "def precision_m(y_true, y_pred):\n",
        "        true_positives = K.sum(K.round(K.clip(y_true * y_pred, 0, 1)))\n",
        "        predicted_positives = K.sum(K.round(K.clip(y_pred, 0, 1)))\n",
        "        precision = true_positives / (predicted_positives + K.epsilon())\n",
        "        return precision\n",
        "\n",
        "def f1_m(y_true, y_pred):\n",
        "    precision = precision_m(y_true, y_pred)\n",
        "    recall = recall_m(y_true, y_pred)\n",
        "    return 2*((precision*recall)/(precision+recall+K.epsilon()))"
      ],
      "execution_count": 0,
      "outputs": []
    },
    {
      "cell_type": "code",
      "metadata": {
        "id": "3Mcj55vOYUDM",
        "colab_type": "code",
        "outputId": "b8473c5d-ecb0-4f4d-de28-bf0cece77c3b",
        "colab": {
          "base_uri": "https://localhost:8080/",
          "height": 425
        }
      },
      "source": [
        "model.summary()"
      ],
      "execution_count": 28,
      "outputs": [
        {
          "output_type": "stream",
          "text": [
            "Model: \"sequential_1\"\n",
            "_________________________________________________________________\n",
            "Layer (type)                 Output Shape              Param #   \n",
            "=================================================================\n",
            "conv2d_1 (Conv2D)            (None, 98, 148, 32)       896       \n",
            "_________________________________________________________________\n",
            "max_pooling2d_1 (MaxPooling2 (None, 49, 74, 32)        0         \n",
            "_________________________________________________________________\n",
            "conv2d_2 (Conv2D)            (None, 47, 72, 32)        9248      \n",
            "_________________________________________________________________\n",
            "max_pooling2d_2 (MaxPooling2 (None, 23, 36, 32)        0         \n",
            "_________________________________________________________________\n",
            "batch_normalization_1 (Batch (None, 23, 36, 32)        128       \n",
            "_________________________________________________________________\n",
            "flatten_1 (Flatten)          (None, 26496)             0         \n",
            "_________________________________________________________________\n",
            "dense_1 (Dense)              (None, 128)               3391616   \n",
            "_________________________________________________________________\n",
            "dense_2 (Dense)              (None, 1)                 129       \n",
            "=================================================================\n",
            "Total params: 3,402,017\n",
            "Trainable params: 3,401,953\n",
            "Non-trainable params: 64\n",
            "_________________________________________________________________\n"
          ],
          "name": "stdout"
        }
      ]
    },
    {
      "cell_type": "code",
      "metadata": {
        "id": "Bj5DmHo6xq6m",
        "colab_type": "code",
        "colab": {}
      },
      "source": [
        "optimizer = optimizers.SGD(lr = 0.01, momentum = 0.0, nesterov = False)\n",
        "model.compile(optimizer = 'adam',\n",
        "              loss = 'binary_crossentropy',\n",
        "              metrics = ['accuracy', f1_m, recall_m, precision_m])"
      ],
      "execution_count": 0,
      "outputs": []
    },
    {
      "cell_type": "code",
      "metadata": {
        "id": "eNZBmHoRxq-F",
        "colab_type": "code",
        "outputId": "7c2bedad-2460-4d52-a6a0-1618ddf0ac51",
        "colab": {
          "base_uri": "https://localhost:8080/",
          "height": 445
        }
      },
      "source": [
        "step_size_train = train_generator.n // train_generator.batch_size\n",
        "step_size_val = val_generator.n // val_generator.batch_size\n",
        "history = model.fit_generator(generator = train_generator,\n",
        "                              steps_per_epoch = step_size_train,\n",
        "                              validation_data = val_generator,\n",
        "                              validation_steps = step_size_val,\n",
        "                              epochs = 10)"
      ],
      "execution_count": 30,
      "outputs": [
        {
          "output_type": "stream",
          "text": [
            "WARNING:tensorflow:From /usr/local/lib/python3.6/dist-packages/keras/backend/tensorflow_backend.py:1033: The name tf.assign_add is deprecated. Please use tf.compat.v1.assign_add instead.\n",
            "\n",
            "WARNING:tensorflow:From /usr/local/lib/python3.6/dist-packages/keras/backend/tensorflow_backend.py:1020: The name tf.assign is deprecated. Please use tf.compat.v1.assign instead.\n",
            "\n",
            "Epoch 1/10\n",
            "114/114 [==============================] - 2301s 20s/step - loss: 0.1954 - acc: 0.9359 - f1_m: 0.9546 - recall_m: 0.9542 - precision_m: 0.9615 - val_loss: 0.1341 - val_acc: 0.9492 - val_f1_m: 0.9639 - val_recall_m: 0.9368 - val_precision_m: 0.9943\n",
            "Epoch 2/10\n",
            "114/114 [==============================] - 62s 541ms/step - loss: 0.0750 - acc: 0.9742 - f1_m: 0.9823 - recall_m: 0.9836 - precision_m: 0.9819 - val_loss: 0.3219 - val_acc: 0.9302 - val_f1_m: 0.9545 - val_recall_m: 0.9854 - val_precision_m: 0.9269\n",
            "Epoch 3/10\n",
            "114/114 [==============================] - 60s 530ms/step - loss: 0.0480 - acc: 0.9838 - f1_m: 0.9888 - recall_m: 0.9902 - precision_m: 0.9880 - val_loss: 0.1104 - val_acc: 0.9706 - val_f1_m: 0.9804 - val_recall_m: 0.9865 - val_precision_m: 0.9753\n",
            "Epoch 4/10\n",
            "114/114 [==============================] - 61s 533ms/step - loss: 0.0781 - acc: 0.9715 - f1_m: 0.9807 - recall_m: 0.9824 - precision_m: 0.9805 - val_loss: 12.0570 - val_acc: 0.2520 - val_f1_m: 0.0000e+00 - val_recall_m: 0.0000e+00 - val_precision_m: 0.0000e+00\n",
            "Epoch 5/10\n",
            "114/114 [==============================] - 59s 519ms/step - loss: 0.0941 - acc: 0.9761 - f1_m: 0.9835 - recall_m: 0.9835 - precision_m: 0.9844 - val_loss: 0.9400 - val_acc: 0.8499 - val_f1_m: 0.8937 - val_recall_m: 0.8882 - val_precision_m: 0.9019\n",
            "Epoch 6/10\n",
            "114/114 [==============================] - 59s 520ms/step - loss: 0.0458 - acc: 0.9844 - f1_m: 0.9893 - recall_m: 0.9889 - precision_m: 0.9902 - val_loss: 0.1526 - val_acc: 0.9693 - val_f1_m: 0.9797 - val_recall_m: 0.9837 - val_precision_m: 0.9764\n",
            "Epoch 7/10\n",
            "114/114 [==============================] - 58s 512ms/step - loss: 0.0158 - acc: 0.9937 - f1_m: 0.9956 - recall_m: 0.9967 - precision_m: 0.9948 - val_loss: 0.1448 - val_acc: 0.9615 - val_f1_m: 0.9731 - val_recall_m: 0.9928 - val_precision_m: 0.9553\n",
            "Epoch 8/10\n",
            "114/114 [==============================] - 58s 508ms/step - loss: 0.0086 - acc: 0.9964 - f1_m: 0.9976 - recall_m: 0.9973 - precision_m: 0.9979 - val_loss: 0.4115 - val_acc: 0.8982 - val_f1_m: 0.9257 - val_recall_m: 0.8671 - val_precision_m: 0.9969\n",
            "Epoch 9/10\n",
            "114/114 [==============================] - 58s 505ms/step - loss: 0.0070 - acc: 0.9981 - f1_m: 0.9986 - recall_m: 0.9985 - precision_m: 0.9989 - val_loss: 0.1688 - val_acc: 0.9595 - val_f1_m: 0.9726 - val_recall_m: 0.9938 - val_precision_m: 0.9535\n",
            "Epoch 10/10\n",
            "114/114 [==============================] - 57s 502ms/step - loss: 0.0022 - acc: 0.9992 - f1_m: 0.9994 - recall_m: 0.9992 - precision_m: 0.9997 - val_loss: 0.1240 - val_acc: 0.9700 - val_f1_m: 0.9796 - val_recall_m: 0.9724 - val_precision_m: 0.9876\n"
          ],
          "name": "stdout"
        }
      ]
    },
    {
      "cell_type": "code",
      "metadata": {
        "id": "lnY6lx9xxq4d",
        "colab_type": "code",
        "outputId": "89a1ba79-d493-4cd4-9024-45588780e58b",
        "colab": {
          "base_uri": "https://localhost:8080/",
          "height": 102
        }
      },
      "source": [
        "test_generator.reset()\n",
        "step_size_test = test_generator.n // test_generator.batch_size\n",
        "model.evaluate_generator(generator = test_generator)"
      ],
      "execution_count": 31,
      "outputs": [
        {
          "output_type": "execute_result",
          "data": {
            "text/plain": [
              "[1.692403678710644,\n",
              " 0.7756410256410257,\n",
              " 0.8433921306561201,\n",
              " 0.9917378914661896,\n",
              " 0.739533143165784]"
            ]
          },
          "metadata": {
            "tags": []
          },
          "execution_count": 31
        }
      ]
    },
    {
      "cell_type": "code",
      "metadata": {
        "id": "WScudOIM4nUL",
        "colab_type": "code",
        "colab": {
          "base_uri": "https://localhost:8080/",
          "height": 513
        },
        "outputId": "034e9f0f-804c-49a5-ca38-2a9ae90b55a1"
      },
      "source": [
        "import matplotlib.pyplot as plt\n",
        "\n",
        "plt.plot(history.history['acc'])\n",
        "plt.plot(history.history['val_acc'])\n",
        "plt.legend(['acc', 'val_acc'])\n",
        "plt.show()\n",
        "plt.plot(history.history['loss'])\n",
        "plt.plot(history.history['val_loss'])\n",
        "plt.show()"
      ],
      "execution_count": 32,
      "outputs": [
        {
          "output_type": "display_data",
          "data": {
            "image/png": "[encoded data removed]",
            "text/plain": [
              "<Figure size 432x288 with 1 Axes>"
            ]
          },
          "metadata": {
            "tags": []
          }
        },
        {
          "output_type": "display_data",
          "data": {
            "image/png": "[encoded data removed]",
            "text/plain": [
              "<Figure size 432x288 with 1 Axes>"
            ]
          },
          "metadata": {
            "tags": []
          }
        }
      ]
    },
    {
      "cell_type": "code",
      "metadata": {
        "id": "FVczGI7B4nPE",
        "colab_type": "code",
        "outputId": "881a34e2-8f4d-48f6-80ae-bf32502d9012",
        "colab": {
          "base_uri": "https://localhost:8080/",
          "height": 34
        }
      },
      "source": [
        "len(df_test[df_test.label=='0'])"
      ],
      "execution_count": 77,
      "outputs": [
        {
          "output_type": "execute_result",
          "data": {
            "text/plain": [
              "234"
            ]
          },
          "metadata": {
            "tags": []
          },
          "execution_count": 77
        }
      ]
    },
    {
      "cell_type": "code",
      "metadata": {
        "id": "w_EHpjgC4nL6",
        "colab_type": "code",
        "outputId": "8a107960-d448-4d79-84e9-48ac08c03106",
        "colab": {
          "base_uri": "https://localhost:8080/",
          "height": 34
        }
      },
      "source": [
        "len(df_test[df_test.label=='1'])"
      ],
      "execution_count": 78,
      "outputs": [
        {
          "output_type": "execute_result",
          "data": {
            "text/plain": [
              "390"
            ]
          },
          "metadata": {
            "tags": []
          },
          "execution_count": 78
        }
      ]
    },
    {
      "cell_type": "code",
      "metadata": {
        "id": "SrWGOj1OxqkZ",
        "colab_type": "code",
        "outputId": "38514b6c-1e2a-4f2a-a99c-82157557ce51",
        "colab": {
          "base_uri": "https://localhost:8080/",
          "height": 68
        }
      },
      "source": [
        "print(len(df_train))\n",
        "print(len(df_train[df_train.label == '0']))\n",
        "print(len(df_train[df_train.label == '1']))"
      ],
      "execution_count": 145,
      "outputs": [
        {
          "output_type": "stream",
          "text": [
            "5216\n",
            "1341\n",
            "3875\n"
          ],
          "name": "stdout"
        }
      ]
    },
    {
      "cell_type": "code",
      "metadata": {
        "id": "hYxP_-NbHQLh",
        "colab_type": "code",
        "outputId": "d5c02bf5-3d3f-47de-cac4-cc9ab4fdd3bf",
        "colab": {
          "base_uri": "https://localhost:8080/",
          "height": 34
        }
      },
      "source": [
        "np.asarray(df_test.label).shape"
      ],
      "execution_count": 0,
      "outputs": [
        {
          "output_type": "execute_result",
          "data": {
            "text/plain": [
              "(624,)"
            ]
          },
          "metadata": {
            "tags": []
          },
          "execution_count": 129
        }
      ]
    },
    {
      "cell_type": "code",
      "metadata": {
        "id": "AX_Z3H5SHT60",
        "colab_type": "code",
        "colab": {}
      },
      "source": [
        ""
      ],
      "execution_count": 0,
      "outputs": []
    },
    {
      "cell_type": "code",
      "metadata": {
        "id": "6Oo1Nzbk0dkt",
        "colab_type": "code",
        "colab": {}
      },
      "source": [
        ""
      ],
      "execution_count": 0,
      "outputs": []
    },
    {
      "cell_type": "code",
      "metadata": {
        "id": "xBhRkl4H0gTT",
        "colab_type": "code",
        "colab": {}
      },
      "source": [
        ""
      ],
      "execution_count": 0,
      "outputs": []
    }
  ]
}