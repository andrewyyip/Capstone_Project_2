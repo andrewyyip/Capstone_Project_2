{
  "nbformat": 4,
  "nbformat_minor": 0,
  "metadata": {
    "kernelspec": {
      "name": "python3",
      "display_name": "Python 3"
    },
    "language_info": {
      "codemirror_mode": {
        "name": "ipython",
        "version": 3
      },
      "file_extension": ".py",
      "mimetype": "text/x-python",
      "name": "python",
      "nbconvert_exporter": "python",
      "pygments_lexer": "ipython3",
      "version": "3.7.3"
    },
    "colab": {
      "name": "Capstone 2 Deep Learning",
      "provenance": [],
      "collapsed_sections": [],
      "machine_shape": "hm",
      "include_colab_link": true
    },
    "accelerator": "GPU"
  },
  "cells": [
    {
      "cell_type": "markdown",
      "metadata": {
        "id": "view-in-github",
        "colab_type": "text"
      },
      "source": [
        "<a href=\"https://colab.research.google.com/github/andrewyyip/Capstone_Project_2/blob/master/Capstone_2_Deep_Learning.ipynb\" target=\"_parent\"><img src=\"https://colab.research.google.com/assets/colab-badge.svg\" alt=\"Open In Colab\"/></a>"
      ]
    },
    {
      "cell_type": "code",
      "metadata": {
        "id": "r4mDJQEBsMqc",
        "colab_type": "code",
        "colab": {}
      },
      "source": [
        "from os import listdir\n",
        "from os.path import isfile, join\n",
        "import matplotlib.pyplot as plt\n",
        "import pandas as pd\n",
        "import numpy as np"
      ],
      "execution_count": 0,
      "outputs": []
    },
    {
      "cell_type": "code",
      "metadata": {
        "id": "C-pRqUgJsakT",
        "colab_type": "code",
        "outputId": "d77d9c43-1a5f-480a-8b82-ca29c79f5951",
        "colab": {
          "base_uri": "https://localhost:8080/",
          "height": 34
        }
      },
      "source": [
        "from google.colab import drive\n",
        "drive.mount('/content/gdrive')"
      ],
      "execution_count": 3,
      "outputs": [
        {
          "output_type": "stream",
          "text": [
            "Drive already mounted at /content/gdrive; to attempt to forcibly remount, call drive.mount(\"/content/gdrive\", force_remount=True).\n"
          ],
          "name": "stdout"
        }
      ]
    },
    {
      "cell_type": "markdown",
      "metadata": {
        "id": "KMSfNKiUHwjs",
        "colab_type": "text"
      },
      "source": [
        "Create Training DataFrame"
      ]
    },
    {
      "cell_type": "code",
      "metadata": {
        "colab_type": "code",
        "id": "A3ivVQOAVEdG",
        "colab": {}
      },
      "source": [
        "#read in image filepaths and labels\n",
        "df_train = pd.read_csv('/content/gdrive/My Drive/Capstone Project 2/train.csv')\n",
        "df_test = pd.read_csv('/content/gdrive/My Drive/Capstone Project 2/test.csv')"
      ],
      "execution_count": 0,
      "outputs": []
    },
    {
      "cell_type": "code",
      "metadata": {
        "colab_type": "code",
        "id": "YYzKWJFCVD2C",
        "colab": {}
      },
      "source": [
        "#convert target labels to str for keras model\n",
        "df_train.label = df_train.label.astype(str)\n",
        "df_test.label = df_test.label.astype(str)"
      ],
      "execution_count": 0,
      "outputs": []
    },
    {
      "cell_type": "code",
      "metadata": {
        "id": "QWx57ieXfEnQ",
        "colab_type": "code",
        "colab": {}
      },
      "source": [
        "#Shuffle dataframes\n",
        "np.random.seed(7)\n",
        "df_train = df_train.sample(frac=1)\n",
        "df_test = df_test.sample(frac=1)"
      ],
      "execution_count": 0,
      "outputs": []
    },
    {
      "cell_type": "code",
      "metadata": {
        "id": "geBdQ8IsTfPe",
        "colab_type": "code",
        "outputId": "8e7026d3-426f-4e6f-8f26-e967ad8abd63",
        "colab": {
          "base_uri": "https://localhost:8080/",
          "height": 204
        }
      },
      "source": [
        "df_train.head()"
      ],
      "execution_count": 7,
      "outputs": [
        {
          "output_type": "execute_result",
          "data": {
            "text/html": [
              "<div>\n",
              "<style scoped>\n",
              "    .dataframe tbody tr th:only-of-type {\n",
              "        vertical-align: middle;\n",
              "    }\n",
              "\n",
              "    .dataframe tbody tr th {\n",
              "        vertical-align: top;\n",
              "    }\n",
              "\n",
              "    .dataframe thead th {\n",
              "        text-align: right;\n",
              "    }\n",
              "</style>\n",
              "<table border=\"1\" class=\"dataframe\">\n",
              "  <thead>\n",
              "    <tr style=\"text-align: right;\">\n",
              "      <th></th>\n",
              "      <th>file_path</th>\n",
              "      <th>condition</th>\n",
              "      <th>label</th>\n",
              "    </tr>\n",
              "  </thead>\n",
              "  <tbody>\n",
              "    <tr>\n",
              "      <th>325</th>\n",
              "      <td>/content/gdrive/My Drive/Capstone Project 2/ch...</td>\n",
              "      <td>pneumonia</td>\n",
              "      <td>1</td>\n",
              "    </tr>\n",
              "    <tr>\n",
              "      <th>680</th>\n",
              "      <td>/content/gdrive/My Drive/Capstone Project 2/ch...</td>\n",
              "      <td>pneumonia</td>\n",
              "      <td>1</td>\n",
              "    </tr>\n",
              "    <tr>\n",
              "      <th>4033</th>\n",
              "      <td>/content/gdrive/My Drive/Capstone Project 2/ch...</td>\n",
              "      <td>normal</td>\n",
              "      <td>0</td>\n",
              "    </tr>\n",
              "    <tr>\n",
              "      <th>2451</th>\n",
              "      <td>/content/gdrive/My Drive/Capstone Project 2/ch...</td>\n",
              "      <td>pneumonia</td>\n",
              "      <td>1</td>\n",
              "    </tr>\n",
              "    <tr>\n",
              "      <th>145</th>\n",
              "      <td>/content/gdrive/My Drive/Capstone Project 2/ch...</td>\n",
              "      <td>pneumonia</td>\n",
              "      <td>1</td>\n",
              "    </tr>\n",
              "  </tbody>\n",
              "</table>\n",
              "</div>"
            ],
            "text/plain": [
              "                                              file_path  condition label\n",
              "325   /content/gdrive/My Drive/Capstone Project 2/ch...  pneumonia     1\n",
              "680   /content/gdrive/My Drive/Capstone Project 2/ch...  pneumonia     1\n",
              "4033  /content/gdrive/My Drive/Capstone Project 2/ch...     normal     0\n",
              "2451  /content/gdrive/My Drive/Capstone Project 2/ch...  pneumonia     1\n",
              "145   /content/gdrive/My Drive/Capstone Project 2/ch...  pneumonia     1"
            ]
          },
          "metadata": {
            "tags": []
          },
          "execution_count": 7
        }
      ]
    },
    {
      "cell_type": "code",
      "metadata": {
        "scrolled": true,
        "id": "nKTQu3pPsMr3",
        "colab_type": "code",
        "colab": {}
      },
      "source": [
        "from keras_preprocessing.image import ImageDataGenerator\n",
        "from keras.layers import Dense, Activation, Flatten, Dropout, BatchNormalization\n",
        "from keras.layers import Conv2D, MaxPooling2D, BatchNormalization, Dropout\n",
        "from keras import regularizers, optimizers\n",
        "from keras import Sequential"
      ],
      "execution_count": 0,
      "outputs": []
    },
    {
      "cell_type": "code",
      "metadata": {
        "id": "AFgDEdmJqLYF",
        "colab_type": "code",
        "colab": {}
      },
      "source": [
        "#create data generators\n",
        "datagen = ImageDataGenerator(rescale = 1/255, validation_split = 0.3)\n",
        "test_datagen = ImageDataGenerator(rescale = 1/255)"
      ],
      "execution_count": 0,
      "outputs": []
    },
    {
      "cell_type": "code",
      "metadata": {
        "id": "WElKYRPql5dG",
        "colab_type": "code",
        "colab": {}
      },
      "source": [
        "#Define our image size\n",
        "image_size = (200, 300)"
      ],
      "execution_count": 0,
      "outputs": []
    },
    {
      "cell_type": "markdown",
      "metadata": {
        "id": "Dft2rmON2u9z",
        "colab_type": "text"
      },
      "source": [
        "Create data generators to read the data in batches"
      ]
    },
    {
      "cell_type": "code",
      "metadata": {
        "id": "qof0rxC3qLVW",
        "colab_type": "code",
        "outputId": "a1beabce-5f26-43c5-eb94-e83f1e45f76d",
        "colab": {
          "base_uri": "https://localhost:8080/",
          "height": 68
        }
      },
      "source": [
        "train_generator = datagen.flow_from_dataframe(dataframe = df_train, \n",
        "                                              x_col = 'file_path', \n",
        "                                              y_col = 'label', \n",
        "                                              directory = None,\n",
        "                                              subset = 'training',\n",
        "                                              target_size = image_size,\n",
        "                                              batchsize = 32, \n",
        "                                              shuffle = True,\n",
        "                                              color_mode = 'grayscale',\n",
        "                                              class_mode = 'binary')\n",
        "\n",
        "val_generator = datagen.flow_from_dataframe(dataframe = df_train,\n",
        "                                            x_col = 'file_path',\n",
        "                                            y_col = 'label',\n",
        "                                            directory = None,\n",
        "                                            subset = 'validation',\n",
        "                                            target_size = image_size,\n",
        "                                            batchsize = 32,\n",
        "                                            shuffle = True,\n",
        "                                            color_mode = 'grayscale',\n",
        "                                            class_mode = 'binary')\n",
        "\n",
        "test_generator = test_datagen.flow_from_dataframe(dataframe = df_test,\n",
        "                                                  x_col = 'file_path',\n",
        "                                                  y_col = 'label',\n",
        "                                                  directory = None,\n",
        "                                                  target_size = image_size,\n",
        "                                                  batchsize = 32,\n",
        "                                                  shuffle = False,\n",
        "                                                  color_mode = 'grayscale',\n",
        "                                                  class_mode = 'binary')\n",
        "                                             "
      ],
      "execution_count": 11,
      "outputs": [
        {
          "output_type": "stream",
          "text": [
            "Found 3652 validated image filenames belonging to 2 classes.\n",
            "Found 1564 validated image filenames belonging to 2 classes.\n",
            "Found 624 validated image filenames belonging to 2 classes.\n"
          ],
          "name": "stdout"
        }
      ]
    },
    {
      "cell_type": "markdown",
      "metadata": {
        "id": "Q05T_eKCTY6J",
        "colab_type": "text"
      },
      "source": [
        "Let's define our custom metrics.  Recall, Precision, and F1 Score."
      ]
    },
    {
      "cell_type": "code",
      "metadata": {
        "id": "T2X8vCP3pwls",
        "colab_type": "code",
        "colab": {}
      },
      "source": [
        "from keras import backend as K\n",
        "\n",
        "def recall_m(y_true, y_pred):\n",
        "        true_positives = K.sum(K.round(K.clip(y_true * y_pred, 0, 1)))\n",
        "        possible_positives = K.sum(K.round(K.clip(y_true, 0, 1)))\n",
        "        recall = true_positives / (possible_positives + K.epsilon())\n",
        "        return recall\n",
        "\n",
        "def precision_m(y_true, y_pred):\n",
        "        true_positives = K.sum(K.round(K.clip(y_true * y_pred, 0, 1)))\n",
        "        predicted_positives = K.sum(K.round(K.clip(y_pred, 0, 1)))\n",
        "        precision = true_positives / (predicted_positives + K.epsilon())\n",
        "        return precision\n",
        "\n",
        "def f1_m(y_true, y_pred):\n",
        "    precision = precision_m(y_true, y_pred)\n",
        "    recall = recall_m(y_true, y_pred)\n",
        "    return 2*((precision*recall)/(precision+recall+K.epsilon()))"
      ],
      "execution_count": 0,
      "outputs": []
    },
    {
      "cell_type": "markdown",
      "metadata": {
        "id": "4A2Rb83XT093",
        "colab_type": "text"
      },
      "source": [
        "#Let's try a simple model"
      ]
    },
    {
      "cell_type": "code",
      "metadata": {
        "id": "7qFVE5E3qLSL",
        "colab_type": "code",
        "colab": {}
      },
      "source": [
        "np.random.seed(12)\n",
        "model = Sequential()\n",
        "model.add(Conv2D(32, (3,3), strides = (1,1), activation = 'relu', input_shape = (image_size[0], image_size[1],1)))\n",
        "model.add(MaxPooling2D((2,2)))\n",
        "model.add(Conv2D(32, (3,3), strides = (1,1), activation = 'relu', input_shape = (image_size[0], image_size[1],1)))\n",
        "model.add(MaxPooling2D((2,2)))\n",
        "model.add(Conv2D(64, (3,3), strides = (1,1), activation = 'relu', input_shape = (image_size[0], image_size[1],1)))\n",
        "model.add(MaxPooling2D((2,2)))\n",
        "model.add(BatchNormalization())\n",
        "model.add(Flatten())\n",
        "model.add(Dense(128, activation = 'relu'))\n",
        "model.add(Dense(1, activation = 'sigmoid'))"
      ],
      "execution_count": 0,
      "outputs": []
    },
    {
      "cell_type": "code",
      "metadata": {
        "id": "3Mcj55vOYUDM",
        "colab_type": "code",
        "outputId": "af41799e-2f09-4270-d579-4e936056bae8",
        "colab": {
          "base_uri": "https://localhost:8080/",
          "height": 493
        }
      },
      "source": [
        "model.summary()"
      ],
      "execution_count": 0,
      "outputs": [
        {
          "output_type": "stream",
          "text": [
            "Model: \"sequential_2\"\n",
            "_________________________________________________________________\n",
            "Layer (type)                 Output Shape              Param #   \n",
            "=================================================================\n",
            "conv2d_4 (Conv2D)            (None, 198, 298, 32)      320       \n",
            "_________________________________________________________________\n",
            "max_pooling2d_4 (MaxPooling2 (None, 99, 149, 32)       0         \n",
            "_________________________________________________________________\n",
            "conv2d_5 (Conv2D)            (None, 97, 147, 32)       9248      \n",
            "_________________________________________________________________\n",
            "max_pooling2d_5 (MaxPooling2 (None, 48, 73, 32)        0         \n",
            "_________________________________________________________________\n",
            "conv2d_6 (Conv2D)            (None, 46, 71, 64)        18496     \n",
            "_________________________________________________________________\n",
            "max_pooling2d_6 (MaxPooling2 (None, 23, 35, 64)        0         \n",
            "_________________________________________________________________\n",
            "batch_normalization_2 (Batch (None, 23, 35, 64)        256       \n",
            "_________________________________________________________________\n",
            "flatten_2 (Flatten)          (None, 51520)             0         \n",
            "_________________________________________________________________\n",
            "dense_3 (Dense)              (None, 128)               6594688   \n",
            "_________________________________________________________________\n",
            "dense_4 (Dense)              (None, 1)                 129       \n",
            "=================================================================\n",
            "Total params: 6,623,137\n",
            "Trainable params: 6,623,009\n",
            "Non-trainable params: 128\n",
            "_________________________________________________________________\n"
          ],
          "name": "stdout"
        }
      ]
    },
    {
      "cell_type": "code",
      "metadata": {
        "id": "Bj5DmHo6xq6m",
        "colab_type": "code",
        "outputId": "b889e9ac-8d87-443a-ca78-f0c287a36ddc",
        "colab": {
          "base_uri": "https://localhost:8080/",
          "height": 156
        }
      },
      "source": [
        "model.compile(optimizer = 'sgd',\n",
        "              loss = 'binary_crossentropy',\n",
        "              metrics = ['accuracy', f1_m, recall_m, precision_m])"
      ],
      "execution_count": 0,
      "outputs": [
        {
          "output_type": "stream",
          "text": [
            "WARNING:tensorflow:From /usr/local/lib/python3.6/dist-packages/keras/optimizers.py:793: The name tf.train.Optimizer is deprecated. Please use tf.compat.v1.train.Optimizer instead.\n",
            "\n",
            "WARNING:tensorflow:From /usr/local/lib/python3.6/dist-packages/keras/backend/tensorflow_backend.py:3657: The name tf.log is deprecated. Please use tf.math.log instead.\n",
            "\n",
            "WARNING:tensorflow:From /usr/local/lib/python3.6/dist-packages/tensorflow_core/python/ops/nn_impl.py:183: where (from tensorflow.python.ops.array_ops) is deprecated and will be removed in a future version.\n",
            "Instructions for updating:\n",
            "Use tf.where in 2.0, which has the same broadcast rule as np.where\n"
          ],
          "name": "stdout"
        }
      ]
    },
    {
      "cell_type": "code",
      "metadata": {
        "id": "eNZBmHoRxq-F",
        "colab_type": "code",
        "outputId": "f74095da-df34-4bea-c1cb-01e46c37cb1a",
        "colab": {
          "base_uri": "https://localhost:8080/",
          "height": 445
        }
      },
      "source": [
        "step_size_train = train_generator.n // train_generator.batch_size\n",
        "step_size_val = val_generator.n // val_generator.batch_size\n",
        "history = model.fit_generator(generator = train_generator,\n",
        "                              steps_per_epoch = step_size_train,\n",
        "                              validation_data = val_generator,\n",
        "                              validation_steps = step_size_val,\n",
        "                              epochs = 10)"
      ],
      "execution_count": 0,
      "outputs": [
        {
          "output_type": "stream",
          "text": [
            "WARNING:tensorflow:From /usr/local/lib/python3.6/dist-packages/keras/backend/tensorflow_backend.py:1033: The name tf.assign_add is deprecated. Please use tf.compat.v1.assign_add instead.\n",
            "\n",
            "WARNING:tensorflow:From /usr/local/lib/python3.6/dist-packages/keras/backend/tensorflow_backend.py:1020: The name tf.assign is deprecated. Please use tf.compat.v1.assign instead.\n",
            "\n",
            "Epoch 1/10\n",
            "114/114 [==============================] - 1234s 11s/step - loss: 0.1850 - acc: 0.9238 - f1_m: 0.9471 - recall_m: 0.9568 - precision_m: 0.9459 - val_loss: 0.1170 - val_acc: 0.9518 - val_f1_m: 0.9667 - val_recall_m: 0.9706 - val_precision_m: 0.9639\n",
            "Epoch 2/10\n",
            "114/114 [==============================] - 54s 478ms/step - loss: 0.0713 - acc: 0.9745 - f1_m: 0.9828 - recall_m: 0.9831 - precision_m: 0.9835 - val_loss: 0.0971 - val_acc: 0.9589 - val_f1_m: 0.9719 - val_recall_m: 0.9772 - val_precision_m: 0.9675\n",
            "Epoch 3/10\n",
            "114/114 [==============================] - 54s 474ms/step - loss: 0.0775 - acc: 0.9732 - f1_m: 0.9811 - recall_m: 0.9819 - precision_m: 0.9827 - val_loss: 0.0862 - val_acc: 0.9641 - val_f1_m: 0.9764 - val_recall_m: 0.9841 - val_precision_m: 0.9698\n",
            "Epoch 4/10\n",
            "114/114 [==============================] - 53s 465ms/step - loss: 0.0392 - acc: 0.9868 - f1_m: 0.9907 - recall_m: 0.9904 - precision_m: 0.9916 - val_loss: 0.0895 - val_acc: 0.9693 - val_f1_m: 0.9792 - val_recall_m: 0.9890 - val_precision_m: 0.9704\n",
            "Epoch 5/10\n",
            "114/114 [==============================] - 53s 461ms/step - loss: 0.0241 - acc: 0.9931 - f1_m: 0.9954 - recall_m: 0.9949 - precision_m: 0.9960 - val_loss: 0.1057 - val_acc: 0.9641 - val_f1_m: 0.9753 - val_recall_m: 0.9635 - val_precision_m: 0.9886\n",
            "Epoch 6/10\n",
            "114/114 [==============================] - 53s 461ms/step - loss: 0.0185 - acc: 0.9956 - f1_m: 0.9970 - recall_m: 0.9975 - precision_m: 0.9967 - val_loss: 0.0821 - val_acc: 0.9667 - val_f1_m: 0.9776 - val_recall_m: 0.9700 - val_precision_m: 0.9865\n",
            "Epoch 7/10\n",
            "114/114 [==============================] - 52s 452ms/step - loss: 0.0134 - acc: 0.9973 - f1_m: 0.9895 - recall_m: 0.9896 - precision_m: 0.9894 - val_loss: 0.0949 - val_acc: 0.9693 - val_f1_m: 0.9792 - val_recall_m: 0.9804 - val_precision_m: 0.9790\n",
            "Epoch 8/10\n",
            "114/114 [==============================] - 50s 438ms/step - loss: 0.0101 - acc: 0.9973 - f1_m: 0.9981 - recall_m: 0.9974 - precision_m: 0.9988 - val_loss: 0.1748 - val_acc: 0.9465 - val_f1_m: 0.9624 - val_recall_m: 0.9336 - val_precision_m: 0.9945\n",
            "Epoch 9/10\n",
            "114/114 [==============================] - 50s 442ms/step - loss: 0.0059 - acc: 0.9997 - f1_m: 0.9998 - recall_m: 1.0000 - precision_m: 0.9996 - val_loss: 0.0882 - val_acc: 0.9719 - val_f1_m: 0.9817 - val_recall_m: 0.9901 - val_precision_m: 0.9742\n",
            "Epoch 10/10\n",
            "114/114 [==============================] - 50s 436ms/step - loss: 0.0047 - acc: 1.0000 - f1_m: 1.0000 - recall_m: 1.0000 - precision_m: 1.0000 - val_loss: 0.1072 - val_acc: 0.9674 - val_f1_m: 0.9782 - val_recall_m: 0.9860 - val_precision_m: 0.9714\n"
          ],
          "name": "stdout"
        }
      ]
    },
    {
      "cell_type": "code",
      "metadata": {
        "id": "WScudOIM4nUL",
        "colab_type": "code",
        "colab": {}
      },
      "source": [
        "import matplotlib.pyplot as plt\n",
        "def model_plots(history):\n",
        "  plt.plot(history.history['acc'])\n",
        "  plt.plot(history.history['val_acc'])\n",
        "  plt.legend(['acc', 'val_acc'])\n",
        "  plt.title('Accuracy')\n",
        "  plt.show()\n",
        "  plt.plot(history.history['loss'])\n",
        "  plt.plot(history.history['val_loss'])\n",
        "  plt.legend(['loss', 'val_loss'])\n",
        "  plt.title('Loss')\n",
        "  plt.show()"
      ],
      "execution_count": 0,
      "outputs": []
    },
    {
      "cell_type": "code",
      "metadata": {
        "id": "hsxO0_CaUXNU",
        "colab_type": "code",
        "outputId": "b534a108-a0bf-4361-c4f0-39c0715828f5",
        "colab": {
          "base_uri": "https://localhost:8080/",
          "height": 545
        }
      },
      "source": [
        "model_plots(history)"
      ],
      "execution_count": 0,
      "outputs": [
        {
          "output_type": "display_data",
          "data": {
            "image/png": "[encoded data removed]",
            "text/plain": [
              "<Figure size 432x288 with 1 Axes>"
            ]
          },
          "metadata": {
            "tags": []
          }
        },
        {
          "output_type": "display_data",
          "data": {
            "image/png": "[encoded data removed]",
            "text/plain": [
              "<Figure size 432x288 with 1 Axes>"
            ]
          },
          "metadata": {
            "tags": []
          }
        }
      ]
    },
    {
      "cell_type": "markdown",
      "metadata": {
        "id": "Kq2hzCOOanHC",
        "colab_type": "text"
      },
      "source": [
        "#Test results from 1st model"
      ]
    },
    {
      "cell_type": "code",
      "metadata": {
        "id": "lnY6lx9xxq4d",
        "colab_type": "code",
        "outputId": "38ef8dbf-a0c1-4977-d728-9cf7b5ede525",
        "colab": {
          "base_uri": "https://localhost:8080/",
          "height": 34
        }
      },
      "source": [
        "test_generator.reset()\n",
        "step_size_test = test_generator.n // test_generator.batch_size\n",
        "model_loss, model_acc, model_f1, model_recall, model_precision = model.evaluate_generator(generator = test_generator, steps = step_size_test)\n",
        "print('Loss:', '%.2f'%model_loss, 'Acc:', '%.2f'%model_acc, 'F1 Score:', '%.2f'%model_f1, 'Recall:', '%.2f'%model_recall, 'Precision:', '%.2f'%model_precision)"
      ],
      "execution_count": 0,
      "outputs": [
        {
          "output_type": "stream",
          "text": [
            "Loss: 1.65 Acc: 0.74 F1 Score: 0.83 Recall: 1.00 Precision: 0.71\n"
          ],
          "name": "stdout"
        }
      ]
    },
    {
      "cell_type": "markdown",
      "metadata": {
        "id": "GINBNKuyYWda",
        "colab_type": "text"
      },
      "source": [
        "Compared to our training and validation metrics, we can see that we most likely have an overfitting issue.  Let's try a more complex model to see what we get."
      ]
    },
    {
      "cell_type": "markdown",
      "metadata": {
        "id": "nvQwQ2ljTr_k",
        "colab_type": "text"
      },
      "source": [
        "#Let's try a more complex learning architecture."
      ]
    },
    {
      "cell_type": "code",
      "metadata": {
        "colab_type": "code",
        "id": "Rgpa68RSTIkc",
        "outputId": "e32703f1-feb6-46ce-c7d4-48c6d2fb72b1",
        "colab": {
          "base_uri": "https://localhost:8080/",
          "height": 88
        }
      },
      "source": [
        "np.random.seed(12)\n",
        "model2 = Sequential()\n",
        "model2.add(Conv2D(32, (3,3), strides = (1,1), activation = 'relu', input_shape = (image_size[0], image_size[1],1)))\n",
        "model2.add(MaxPooling2D((2,2)))\n",
        "model2.add(Conv2D(32, (3,3), strides = (1,1), activation = 'relu', input_shape = (image_size[0], image_size[1],1)))\n",
        "model2.add(MaxPooling2D((2,2)))\n",
        "model2.add(Conv2D(64, (3,3), strides = (1,1), activation = 'relu', input_shape = (image_size[0], image_size[1],1)))\n",
        "model2.add(MaxPooling2D((2,2)))\n",
        "model2.add(Conv2D(64, (3,3), strides = (1,1), activation = 'relu', input_shape = (image_size[0], image_size[1],1)))\n",
        "model2.add(MaxPooling2D((2,2)))\n",
        "model2.add(Conv2D(128, (3,3), strides = (1,1), activation = 'relu', input_shape = (image_size[0], image_size[1],1)))\n",
        "model2.add(BatchNormalization())\n",
        "model2.add(MaxPooling2D((2,2)))\n",
        "model2.add(Flatten())\n",
        "model2.add(Dense(256, activation = 'relu', kernel_regularizer=regularizers.l2(0.1)))\n",
        "model2.add(Dense(512, activation = 'relu'))\n",
        "model2.add(Dropout(0.4))\n",
        "model2.add(Dense(1, activation = 'sigmoid'))\n"
      ],
      "execution_count": 0,
      "outputs": [
        {
          "output_type": "stream",
          "text": [
            "WARNING:tensorflow:From /usr/local/lib/python3.6/dist-packages/keras/backend/tensorflow_backend.py:3733: calling dropout (from tensorflow.python.ops.nn_ops) with keep_prob is deprecated and will be removed in a future version.\n",
            "Instructions for updating:\n",
            "Please use `rate` instead of `keep_prob`. Rate should be set to `rate = 1 - keep_prob`.\n"
          ],
          "name": "stdout"
        }
      ]
    },
    {
      "cell_type": "code",
      "metadata": {
        "colab_type": "code",
        "outputId": "f24dc474-5219-41b7-dfd3-9cde2b0c056f",
        "id": "kyrjSNOZTIkh",
        "colab": {
          "base_uri": "https://localhost:8080/",
          "height": 697
        }
      },
      "source": [
        "model2.summary()"
      ],
      "execution_count": 0,
      "outputs": [
        {
          "output_type": "stream",
          "text": [
            "Model: \"sequential_3\"\n",
            "_________________________________________________________________\n",
            "Layer (type)                 Output Shape              Param #   \n",
            "=================================================================\n",
            "conv2d_7 (Conv2D)            (None, 198, 298, 32)      320       \n",
            "_________________________________________________________________\n",
            "max_pooling2d_7 (MaxPooling2 (None, 99, 149, 32)       0         \n",
            "_________________________________________________________________\n",
            "conv2d_8 (Conv2D)            (None, 97, 147, 32)       9248      \n",
            "_________________________________________________________________\n",
            "max_pooling2d_8 (MaxPooling2 (None, 48, 73, 32)        0         \n",
            "_________________________________________________________________\n",
            "conv2d_9 (Conv2D)            (None, 46, 71, 64)        18496     \n",
            "_________________________________________________________________\n",
            "max_pooling2d_9 (MaxPooling2 (None, 23, 35, 64)        0         \n",
            "_________________________________________________________________\n",
            "conv2d_10 (Conv2D)           (None, 21, 33, 64)        36928     \n",
            "_________________________________________________________________\n",
            "max_pooling2d_10 (MaxPooling (None, 10, 16, 64)        0         \n",
            "_________________________________________________________________\n",
            "conv2d_11 (Conv2D)           (None, 8, 14, 128)        73856     \n",
            "_________________________________________________________________\n",
            "batch_normalization_3 (Batch (None, 8, 14, 128)        512       \n",
            "_________________________________________________________________\n",
            "max_pooling2d_11 (MaxPooling (None, 4, 7, 128)         0         \n",
            "_________________________________________________________________\n",
            "flatten_3 (Flatten)          (None, 3584)              0         \n",
            "_________________________________________________________________\n",
            "dense_5 (Dense)              (None, 256)               917760    \n",
            "_________________________________________________________________\n",
            "dense_6 (Dense)              (None, 512)               131584    \n",
            "_________________________________________________________________\n",
            "dropout_1 (Dropout)          (None, 512)               0         \n",
            "_________________________________________________________________\n",
            "dense_7 (Dense)              (None, 1)                 513       \n",
            "=================================================================\n",
            "Total params: 1,189,217\n",
            "Trainable params: 1,188,961\n",
            "Non-trainable params: 256\n",
            "_________________________________________________________________\n"
          ],
          "name": "stdout"
        }
      ]
    },
    {
      "cell_type": "code",
      "metadata": {
        "colab_type": "code",
        "id": "-rBjlvexTIkk",
        "colab": {}
      },
      "source": [
        "model2.compile(optimizer = 'sgd',\n",
        "              loss = 'binary_crossentropy',\n",
        "              metrics = ['accuracy', f1_m, recall_m, precision_m])"
      ],
      "execution_count": 0,
      "outputs": []
    },
    {
      "cell_type": "code",
      "metadata": {
        "colab_type": "code",
        "outputId": "fa314212-c5a6-4751-e384-4f20ee0a5ee0",
        "id": "O3WKFf3pTIkn",
        "colab": {
          "base_uri": "https://localhost:8080/",
          "height": 377
        }
      },
      "source": [
        "step_size_train = train_generator.n // train_generator.batch_size\n",
        "step_size_val = val_generator.n // val_generator.batch_size\n",
        "history2 = model2.fit_generator(generator = train_generator,\n",
        "                              steps_per_epoch = step_size_train,\n",
        "                              validation_data = val_generator,\n",
        "                              validation_steps = step_size_val,\n",
        "                              epochs = 10)"
      ],
      "execution_count": 0,
      "outputs": [
        {
          "output_type": "stream",
          "text": [
            "Epoch 1/10\n",
            "114/114 [==============================] - 52s 458ms/step - loss: 38.8493 - acc: 0.8780 - f1_m: 0.9212 - recall_m: 0.9588 - precision_m: 0.8939 - val_loss: 30.5525 - val_acc: 0.9219 - val_f1_m: 0.9461 - val_recall_m: 0.9270 - val_precision_m: 0.9684\n",
            "Epoch 2/10\n",
            "114/114 [==============================] - 54s 470ms/step - loss: 24.5558 - acc: 0.9534 - f1_m: 0.9680 - recall_m: 0.9705 - precision_m: 0.9669 - val_loss: 19.5677 - val_acc: 0.8649 - val_f1_m: 0.8994 - val_recall_m: 0.8230 - val_precision_m: 0.9978\n",
            "Epoch 3/10\n",
            "114/114 [==============================] - 54s 475ms/step - loss: 15.6058 - acc: 0.9534 - f1_m: 0.9676 - recall_m: 0.9695 - precision_m: 0.9682 - val_loss: 12.5418 - val_acc: 0.8655 - val_f1_m: 0.8997 - val_recall_m: 0.8242 - val_precision_m: 0.9955\n",
            "Epoch 4/10\n",
            "114/114 [==============================] - 52s 459ms/step - loss: 9.9228 - acc: 0.9657 - f1_m: 0.9764 - recall_m: 0.9773 - precision_m: 0.9769 - val_loss: 7.8873 - val_acc: 0.9465 - val_f1_m: 0.9646 - val_recall_m: 0.9883 - val_precision_m: 0.9436\n",
            "Epoch 5/10\n",
            "114/114 [==============================] - 53s 463ms/step - loss: 6.3320 - acc: 0.9660 - f1_m: 0.9766 - recall_m: 0.9780 - precision_m: 0.9768 - val_loss: 5.0471 - val_acc: 0.9537 - val_f1_m: 0.9693 - val_recall_m: 0.9881 - val_precision_m: 0.9523\n",
            "Epoch 6/10\n",
            "114/114 [==============================] - 52s 455ms/step - loss: 4.0522 - acc: 0.9682 - f1_m: 0.9783 - recall_m: 0.9792 - precision_m: 0.9788 - val_loss: 3.4443 - val_acc: 0.8727 - val_f1_m: 0.9061 - val_recall_m: 0.8331 - val_precision_m: 0.9973\n",
            "Epoch 7/10\n",
            "114/114 [==============================] - 51s 450ms/step - loss: 2.6049 - acc: 0.9715 - f1_m: 0.9797 - recall_m: 0.9788 - precision_m: 0.9822 - val_loss: 2.1479 - val_acc: 0.9419 - val_f1_m: 0.9590 - val_recall_m: 0.9291 - val_precision_m: 0.9931\n",
            "Epoch 8/10\n",
            "114/114 [==============================] - 51s 448ms/step - loss: 1.6918 - acc: 0.9715 - f1_m: 0.9805 - recall_m: 0.9808 - precision_m: 0.9815 - val_loss: 1.4891 - val_acc: 0.9151 - val_f1_m: 0.9398 - val_recall_m: 0.8926 - val_precision_m: 0.9949\n",
            "Epoch 9/10\n",
            "114/114 [==============================] - 52s 454ms/step - loss: 1.1345 - acc: 0.9641 - f1_m: 0.9743 - recall_m: 0.9726 - precision_m: 0.9792 - val_loss: 0.9246 - val_acc: 0.9589 - val_f1_m: 0.9722 - val_recall_m: 0.9701 - val_precision_m: 0.9755\n",
            "Epoch 10/10\n",
            "114/114 [==============================] - 50s 441ms/step - loss: 0.7505 - acc: 0.9687 - f1_m: 0.9788 - recall_m: 0.9794 - precision_m: 0.9793 - val_loss: 0.6699 - val_acc: 0.9504 - val_f1_m: 0.9671 - val_recall_m: 0.9909 - val_precision_m: 0.9456\n"
          ],
          "name": "stdout"
        }
      ]
    },
    {
      "cell_type": "code",
      "metadata": {
        "id": "2zRNWPS8nt5c",
        "colab_type": "code",
        "outputId": "b7c22161-131b-4675-9741-28828af9f11f",
        "colab": {
          "base_uri": "https://localhost:8080/",
          "height": 545
        }
      },
      "source": [
        "model_plots(history2)"
      ],
      "execution_count": 0,
      "outputs": [
        {
          "output_type": "display_data",
          "data": {
            "image/png": "[encoded data removed]",
            "text/plain": [
              "<Figure size 432x288 with 1 Axes>"
            ]
          },
          "metadata": {
            "tags": []
          }
        },
        {
          "output_type": "display_data",
          "data": {
            "image/png": "[encoded data removed]",
            "text/plain": [
              "<Figure size 432x288 with 1 Axes>"
            ]
          },
          "metadata": {
            "tags": []
          }
        }
      ]
    },
    {
      "cell_type": "markdown",
      "metadata": {
        "id": "6JuKHj06afxt",
        "colab_type": "text"
      },
      "source": [
        "#Test results from 2nd model"
      ]
    },
    {
      "cell_type": "code",
      "metadata": {
        "colab_type": "code",
        "outputId": "4deb4eb3-d589-4524-d359-694f48225788",
        "id": "toEfUuVyTIkr",
        "colab": {
          "base_uri": "https://localhost:8080/",
          "height": 34
        }
      },
      "source": [
        "test_generator.reset()\n",
        "step_size_test = test_generator.n // test_generator.batch_size\n",
        "model2_loss, model2_acc, model2_f1, model2_recall, model2_precision = model2.evaluate_generator(generator = test_generator)\n",
        "print('Loss:', '%.2f'%model2_loss, 'Acc:', '%.2f'%model2_acc, 'F1 Score:', '%.2f'%model2_f1, 'Recall:', '%.2f'%model2_recall, 'Precision:', '%.2f'%model2_precision)"
      ],
      "execution_count": 0,
      "outputs": [
        {
          "output_type": "stream",
          "text": [
            "Loss: 1.68 Acc: 0.69 F1 Score: 0.80 Recall: 1.00 Precision: 0.67\n"
          ],
          "name": "stdout"
        }
      ]
    },
    {
      "cell_type": "code",
      "metadata": {
        "id": "b8TUeO5iguSm",
        "colab_type": "code",
        "colab": {}
      },
      "source": [
        "#save models that performed well\n",
        "#model2.save('/content/gdrive/My Drive/Capstone Project 2/model-1.h5)"
      ],
      "execution_count": 0,
      "outputs": []
    },
    {
      "cell_type": "markdown",
      "metadata": {
        "id": "tQwxAzQ7YqNg",
        "colab_type": "text"
      },
      "source": [
        "This does not look much better.  Our model may have become too complex, which does not help us correct our overfitting problems.  We can continue to modify our model until we get some more desirable results.  We save these models in an h5 file so that we can have them for future reference.\n"
      ]
    },
    {
      "cell_type": "markdown",
      "metadata": {
        "id": "sXHYoZ0zZlH2",
        "colab_type": "text"
      },
      "source": [
        "# Load saved model\n"
      ]
    },
    {
      "cell_type": "code",
      "metadata": {
        "id": "wh7C8Qu1e2UM",
        "colab_type": "code",
        "outputId": "1d0e81f3-6d74-41bc-92dd-b2537de9777a",
        "colab": {
          "base_uri": "https://localhost:8080/",
          "height": 595
        }
      },
      "source": [
        "from keras.models import load_model\n",
        "#load saved model from folder\n",
        "loaded_model = load_model('/content/gdrive/My Drive/Capstone Project 2/model-1.h5', custom_objects = {'f1_m':f1_m, 'recall_m':recall_m, 'precision_m':precision_m})\n",
        "loaded_model.summary()\n"
      ],
      "execution_count": 17,
      "outputs": [
        {
          "output_type": "stream",
          "text": [
            "Model: \"sequential_10\"\n",
            "_________________________________________________________________\n",
            "Layer (type)                 Output Shape              Param #   \n",
            "=================================================================\n",
            "conv2d_46 (Conv2D)           (None, 198, 298, 32)      320       \n",
            "_________________________________________________________________\n",
            "max_pooling2d_37 (MaxPooling (None, 99, 149, 32)       0         \n",
            "_________________________________________________________________\n",
            "conv2d_47 (Conv2D)           (None, 97, 147, 32)       9248      \n",
            "_________________________________________________________________\n",
            "max_pooling2d_38 (MaxPooling (None, 48, 73, 32)        0         \n",
            "_________________________________________________________________\n",
            "conv2d_48 (Conv2D)           (None, 46, 71, 32)        9248      \n",
            "_________________________________________________________________\n",
            "max_pooling2d_39 (MaxPooling (None, 23, 35, 32)        0         \n",
            "_________________________________________________________________\n",
            "conv2d_49 (Conv2D)           (None, 21, 33, 64)        18496     \n",
            "_________________________________________________________________\n",
            "max_pooling2d_40 (MaxPooling (None, 10, 16, 64)        0         \n",
            "_________________________________________________________________\n",
            "conv2d_50 (Conv2D)           (None, 8, 14, 128)        73856     \n",
            "_________________________________________________________________\n",
            "batch_normalization_10 (Batc (None, 8, 14, 128)        512       \n",
            "_________________________________________________________________\n",
            "flatten_10 (Flatten)         (None, 14336)             0         \n",
            "_________________________________________________________________\n",
            "dense_19 (Dense)             (None, 64)                917568    \n",
            "_________________________________________________________________\n",
            "dense_20 (Dense)             (None, 1)                 65        \n",
            "=================================================================\n",
            "Total params: 1,029,313\n",
            "Trainable params: 1,029,057\n",
            "Non-trainable params: 256\n",
            "_________________________________________________________________\n"
          ],
          "name": "stdout"
        }
      ]
    },
    {
      "cell_type": "markdown",
      "metadata": {
        "id": "MiQCb7RGsvbe",
        "colab_type": "text"
      },
      "source": [
        "#Retrieve our training, validation, and testing metrics from our saved model"
      ]
    },
    {
      "cell_type": "code",
      "metadata": {
        "id": "_DC6hEmJfWMJ",
        "colab_type": "code",
        "colab": {}
      },
      "source": [
        "step_size_train = train_generator.n // train_generator.batch_size\n",
        "step_size_val = val_generator.n // val_generator.batch_size\n",
        "\n",
        "#retrieve training metrics for saved model\n",
        "train_generator.reset()\n",
        "train_loss, train_acc, train_f1, train_recall, train_precision = loaded_model.evaluate_generator(generator = train_generator, steps=step_size_train)\n",
        "\n",
        "#retrieve validation metrics for saved model\n",
        "val_generator.reset()\n",
        "val_loss, val_acc, val_f1, val_recall, val_precision = loaded_model.evaluate_generator(generator = val_generator, steps = step_size_val)\n",
        "\n",
        "#retrieve test metrics for saved model\n",
        "test_generator.reset()\n",
        "test_loss, test_acc, test_f1, test_recall, test_precision = loaded_model.evaluate_generator(generator = test_generator)\n"
      ],
      "execution_count": 0,
      "outputs": []
    },
    {
      "cell_type": "markdown",
      "metadata": {
        "id": "KL7xKamOs1-H",
        "colab_type": "text"
      },
      "source": [
        "#Model Results"
      ]
    },
    {
      "cell_type": "code",
      "metadata": {
        "colab_type": "code",
        "outputId": "cb1e36cb-a802-478b-9d9e-583a13bcbf67",
        "id": "uW6Z6nJOTIkx",
        "colab": {
          "base_uri": "https://localhost:8080/",
          "height": 153
        }
      },
      "source": [
        "print('TRAINING')\n",
        "print('Loss:', \"%.2f\" % train_loss, 'Acc:', \"%.2f\" % train_acc, 'F1 Score:', \"%.2f\" % train_f1, 'Recall:', \"%.2f\" % train_recall, 'Precision:', \"%.2f\" % train_precision)\n",
        "print('')\n",
        "print('VALIDATION')\n",
        "print('Loss:', \"%.2f\" % val_loss, 'Acc:', \"%.2f\" % val_acc, 'F1 Score:', \"%.2f\" % val_f1, 'Recall:', \"%.2f\" % val_recall, 'Precision:', \"%.2f\" % val_precision)\n",
        "print('')\n",
        "print('TEST')\n",
        "print('Loss:', \"%.2f\" % test_loss, 'Acc:', \"%.2f\" % test_acc, 'F1 Score:', \"%.2f\" % test_f1, 'Recall:', \"%.2f\" % test_recall, 'Precision:', \"%.2f\" % test_precision)\n"
      ],
      "execution_count": 16,
      "outputs": [
        {
          "output_type": "stream",
          "text": [
            "TRAINING\n",
            "Loss: 0.25 Acc: 0.92 F1 Score: 0.94 Recall: 0.89 Precision: 1.00\n",
            "\n",
            "VALIDATION\n",
            "Loss: 0.26 Acc: 0.92 F1 Score: 0.94 Recall: 0.90 Precision: 0.99\n",
            "\n",
            "TEST\n",
            "Loss: 0.37 Acc: 0.87 F1 Score: 0.89 Recall: 0.92 Precision: 0.87\n"
          ],
          "name": "stdout"
        }
      ]
    },
    {
      "cell_type": "markdown",
      "metadata": {
        "id": "4ZrVJ6_uZ_Bw",
        "colab_type": "text"
      },
      "source": [
        "We can see that the difference between the validation and test scores is not as extreme, suggesting that this model is not overfitting as much as the previous ones and is doing a much better job of generalizing to new data.  The accuracy and F1 scores are also higher.\n",
        "\n",
        "In this model we have maintained a reasonably high recall score of 0.92.  It should be noted that when dealing with healthcare predictions, it may be prudent to keep a high recall to limit the number of false negatives since missing a diagnosis could potentially have much higher costs than incorrectly diagnosing a case as positive.  Any changes or improvements made to the model should take this in to consideration and try to keep the recall of the model as high as possible."
      ]
    },
    {
      "cell_type": "markdown",
      "metadata": {
        "id": "WTNeHKq9s_dA",
        "colab_type": "text"
      },
      "source": [
        "#Precision Recall Curve \n",
        "Since we have a slight imbalance, we should look at a precision recall curve and AUC score to get an idea of how our model performs."
      ]
    },
    {
      "cell_type": "code",
      "metadata": {
        "id": "WhXDLpD6olZx",
        "colab_type": "code",
        "colab": {}
      },
      "source": [
        "predict_proba = loaded_model.predict_generator(generator = test_generator)\n",
        "pred = np.multiply((predict_proba > 0.5), 1)\n",
        "df_results = df_test.copy()\n",
        "df_results['pred'] = pred"
      ],
      "execution_count": 0,
      "outputs": []
    },
    {
      "cell_type": "code",
      "metadata": {
        "id": "xeDnFV7y0WHo",
        "colab_type": "code",
        "colab": {
          "base_uri": "https://localhost:8080/",
          "height": 312
        },
        "outputId": "901f0e01-d991-459c-adb9-b245405eda96"
      },
      "source": [
        "from sklearn.metrics import precision_recall_curve, auc\n",
        "precision, recall, thresholds = precision_recall_curve(df_test.label.astype(int), predict_proba)\n",
        "\n",
        "#plt.plot([0, 1], [no_skill, no_skill], linestyle='--', label='No Skill')\n",
        "plt.plot(recall, precision, marker='.', label='Logistic')\n",
        "plt.xlabel('Recall')\n",
        "plt.ylabel('Precision')\n",
        "plt.legend()\n",
        "plt.title('Precision Recall Curve')\n",
        "plt.show()\n",
        "\n",
        "print('AUC Score: %.3f'% auc(recall, precision))"
      ],
      "execution_count": 75,
      "outputs": [
        {
          "output_type": "display_data",
          "data": {
            "image/png": "[encoded data removed]",
            "text/plain": [
              "<Figure size 432x288 with 1 Axes>"
            ]
          },
          "metadata": {
            "tags": []
          }
        },
        {
          "output_type": "stream",
          "text": [
            "AUC Score: 0.957\n"
          ],
          "name": "stdout"
        }
      ]
    },
    {
      "cell_type": "markdown",
      "metadata": {
        "id": "zS25RXNUtKCE",
        "colab_type": "text"
      },
      "source": [
        "#Confusion Matrix"
      ]
    },
    {
      "cell_type": "code",
      "metadata": {
        "id": "X82kpmJpkZ94",
        "colab_type": "code",
        "colab": {
          "base_uri": "https://localhost:8080/",
          "height": 350
        },
        "outputId": "25992cc0-3641-4e61-b852-25ef321265d5"
      },
      "source": [
        "from sklearn.metrics import confusion_matrix\n",
        "import seaborn as sns\n",
        "\n",
        "#create confusion matrix\n",
        "cm = confusion_matrix(df_results.label.astype(int), df_results.pred)\n",
        "# Normalise\n",
        "cm_normal = cm.astype('float') / cm.sum(axis=1)[:, np.newaxis]\n",
        "\n",
        "#plot confusion matrix\n",
        "plt.figure(figsize = (7,5))\n",
        "sns.heatmap(cm_normal, cmap = 'Blues', annot=True)\n",
        "plt.ylabel('Actual')\n",
        "plt.xlabel('Predicted')\n",
        "plt.title('Confusion Matrix')\n",
        "plt.show()"
      ],
      "execution_count": 60,
      "outputs": [
        {
          "output_type": "display_data",
          "data": {
            "image/png": "[encoded data removed]",
            "text/plain": [
              "<Figure size 504x360 with 2 Axes>"
            ]
          },
          "metadata": {
            "tags": []
          }
        }
      ]
    },
    {
      "cell_type": "code",
      "metadata": {
        "id": "UeU-vGCIyIfH",
        "colab_type": "code",
        "colab": {}
      },
      "source": [
        ""
      ],
      "execution_count": 0,
      "outputs": []
    }
  ]
}